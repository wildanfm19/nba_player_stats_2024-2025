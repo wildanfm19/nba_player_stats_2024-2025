{
 "cells": [
  {
   "cell_type": "code",
   "execution_count": 16,
   "id": "c2d63d11",
   "metadata": {},
   "outputs": [],
   "source": [
    "from bs4 import BeautifulSoup\n",
    "import requests\n",
    "import pandas as pd"
   ]
  },
  {
   "cell_type": "code",
   "execution_count": 17,
   "id": "8069395e",
   "metadata": {},
   "outputs": [],
   "source": [
    "url = \"https://www.basketball-reference.com/leagues/NBA_2025_per_game.html#per_game_stats\""
   ]
  },
  {
   "cell_type": "code",
   "execution_count": 19,
   "id": "52560b19",
   "metadata": {},
   "outputs": [],
   "source": [
    "page = requests.get(url)\n",
    "soup = BeautifulSoup(page.text , 'html.parser')"
   ]
  },
  {
   "cell_type": "code",
   "execution_count": null,
   "id": "012f7ca7",
   "metadata": {},
   "outputs": [
    {
     "name": "stdout",
     "output_type": "stream",
     "text": [
      "TABLE: \n",
      "None\n"
     ]
    }
   ],
   "source": [
    "table = soup.find('div' , class_ = 'table_container' )\n"
   ]
  }
 ],
 "metadata": {
  "kernelspec": {
   "display_name": "Python 3",
   "language": "python",
   "name": "python3"
  },
  "language_info": {
   "codemirror_mode": {
    "name": "ipython",
    "version": 3
   },
   "file_extension": ".py",
   "mimetype": "text/x-python",
   "name": "python",
   "nbconvert_exporter": "python",
   "pygments_lexer": "ipython3",
   "version": "3.13.7"
  }
 },
 "nbformat": 4,
 "nbformat_minor": 5
}
