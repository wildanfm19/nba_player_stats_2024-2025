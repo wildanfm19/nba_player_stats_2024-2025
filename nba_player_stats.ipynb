{
 "cells": [
  {
   "cell_type": "code",
   "execution_count": 44,
   "id": "c2d63d11",
   "metadata": {},
   "outputs": [],
   "source": [
    "from bs4 import BeautifulSoup , Comment\n",
    "import requests\n",
    "import pandas as pd"
   ]
  },
  {
   "cell_type": "code",
   "execution_count": 45,
   "id": "8069395e",
   "metadata": {},
   "outputs": [],
   "source": [
    "url = \"https://www.basketball-reference.com/leagues/NBA_2025_per_game.html#per_game_stats\"\n",
    "\n"
   ]
  },
  {
   "cell_type": "code",
   "execution_count": 46,
   "id": "966737c6",
   "metadata": {},
   "outputs": [],
   "source": [
    "tables = pd.read_html(url)\n",
    "df = tables[0]\n",
    "\n",
    "\n",
    "# 2️⃣ Hapus baris header duplikat (yang berisi 'Rk' di kolom pertama)\n",
    "df = df[df['Rk'] != 'Rk']\n",
    "df = df.reset_index(drop=True)\n",
    "\n",
    "\n",
    "\n",
    "\n",
    "for col in df.columns[5:]:\n",
    "    if col != 'Awards':\n",
    "        df[col] = pd.to_numeric(df[col] , errors ='coerce')"
   ]
  },
  {
   "cell_type": "code",
   "execution_count": 47,
   "id": "87627b09",
   "metadata": {},
   "outputs": [
    {
     "name": "stdout",
     "output_type": "stream",
     "text": [
      "   Rk                   Player  Age   G  GS\n",
      "0   1  Shai Gilgeous-Alexander   26  76  76\n",
      "1   2    Giannis Antetokounmpo   30  67  67\n",
      "2   3             Nikola Jokić   29  70  70\n",
      "3   4              Luka Dončić   25  50  50\n",
      "4   4              Luka Dončić   25  22  22\n"
     ]
    }
   ],
   "source": [
    "int_cols = ['Rk', 'Age', 'G', 'GS']\n",
    "for col in int_cols:\n",
    "    df[col] = df[col].astype('Int64')\n",
    "\n",
    "print(df[['Rk', 'Player', 'Age', 'G', 'GS']].head())"
   ]
  },
  {
   "cell_type": "code",
   "execution_count": 48,
   "id": "3861edd5",
   "metadata": {},
   "outputs": [],
   "source": [
    "\n",
    "df.to_csv(r\"C:\\python_webscrapping_csv/nba_2025_player_stats_2024-2025.csv\", index=False , sep=\";\" ,   encoding='utf-8-sig')"
   ]
  }
 ],
 "metadata": {
  "kernelspec": {
   "display_name": "Python 3",
   "language": "python",
   "name": "python3"
  },
  "language_info": {
   "codemirror_mode": {
    "name": "ipython",
    "version": 3
   },
   "file_extension": ".py",
   "mimetype": "text/x-python",
   "name": "python",
   "nbconvert_exporter": "python",
   "pygments_lexer": "ipython3",
   "version": "3.13.7"
  }
 },
 "nbformat": 4,
 "nbformat_minor": 5
}
